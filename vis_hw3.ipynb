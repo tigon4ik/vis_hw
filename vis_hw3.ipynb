{
  "nbformat": 4,
  "nbformat_minor": 0,
  "metadata": {
    "kernelspec": {
      "display_name": "Python 3",
      "language": "python",
      "name": "python3"
    },
    "language_info": {
      "codemirror_mode": {
        "name": "ipython",
        "version": 3
      },
      "file_extension": ".py",
      "mimetype": "text/x-python",
      "name": "python",
      "nbconvert_exporter": "python",
      "pygments_lexer": "ipython3",
      "version": "3.8.5"
    },
    "colab": {
      "name": "vis_hw3.ipynb",
      "provenance": [],
      "toc_visible": true,
      "include_colab_link": true
    }
  },
  "cells": [
    {
      "cell_type": "markdown",
      "metadata": {
        "id": "view-in-github",
        "colab_type": "text"
      },
      "source": [
        "<a href=\"https://colab.research.google.com/github/tigon4ik/vis_hw/blob/hw3/vis_hw3.ipynb\" target=\"_parent\"><img src=\"https://colab.research.google.com/assets/colab-badge.svg\" alt=\"Open In Colab\"/></a>"
      ]
    },
    {
      "cell_type": "markdown",
      "metadata": {
        "id": "cioyYYlFd69V"
      },
      "source": [
        "## HW 3 - расположение меток/подписей (label placement)\n",
        "#### Дарбинян Оганес\n",
        "##### 2-SAT"
      ]
    },
    {
      "cell_type": "code",
      "metadata": {
        "colab": {
          "base_uri": "https://localhost:8080/"
        },
        "id": "5PrnRHtjew58",
        "outputId": "aa34c899-171e-4f92-9593-57a3a5a6c95a"
      },
      "source": [
        "!git clone https://github.com/tigon4ik/vis_hw.git && cd vis_hw && git checkout hw3"
      ],
      "execution_count": 26,
      "outputs": [
        {
          "output_type": "stream",
          "text": [
            "fatal: destination path 'vis_hw' already exists and is not an empty directory.\n"
          ],
          "name": "stdout"
        }
      ]
    },
    {
      "cell_type": "code",
      "metadata": {
        "id": "jeFOJzh4d69a"
      },
      "source": [
        "import matplotlib.pyplot as plt\n",
        "from matplotlib.patches import Rectangle"
      ],
      "execution_count": 27,
      "outputs": []
    },
    {
      "cell_type": "code",
      "metadata": {
        "id": "Ea4lia2md69b"
      },
      "source": [
        "\n",
        "test1 = '''\n",
        "20,20\t10,10\t0,0 0,10 10,10\n",
        "20,25\t10,10\t0,0 10,0 0,10 10,10\n",
        "25,20\t10,10\t10,0 10,10\n",
        "25,25\t10,10\t10,0 0,10\n",
        "'''\n",
        "\n",
        "\n",
        "class Pos:\n",
        "    def __init__(self, *arr):\n",
        "        assert len(arr) == 2\n",
        "        self.xy = arr\n",
        "    \n",
        "    def __add__(self, that):\n",
        "        return [a + b for a, b in zip(self.xy, that.xy)]\n",
        "    \n",
        "    def __sub__(self, that):\n",
        "        return [a - b for a, b in zip(self.xy, that.xy)]\n",
        "    \n",
        "    def __neg__(self):\n",
        "        return [-a for a in self.xy]\n",
        "    \n",
        "    def __str__(self):\n",
        "        return str(self.xy)\n",
        "    \n",
        "    def __repr__(self):\n",
        "        return str(self)\n",
        "    \n",
        "    def parse(s):\n",
        "        arr = [int(a) for a in s.split(',')]\n",
        "        return Pos(*arr)\n",
        "\n",
        "\n",
        "class Box:\n",
        "    def __init__(self, line):\n",
        "        arr = line.split('\\t')\n",
        "        self.pos = Pos.parse(arr[0])\n",
        "        self.size = Pos.parse(arr[1])\n",
        "        self.offsets = [Pos.parse(pos) for pos in arr[2].split(' ')]\n",
        "        assert len(self.offsets) > 0\n",
        "    \n",
        "    def __str__(self):\n",
        "        return 'Box(pos={}, size={}, offsets={})'.format(self.pos, self.size, self.offsets)\n",
        "    \n",
        "    def __repr__(self):\n",
        "        return str(self)\n",
        "\n",
        "\n",
        "# boxes = [Box(line) for line in raw_data.strip().split('\\n')]\n",
        "# print(boxes)\n"
      ],
      "execution_count": 28,
      "outputs": []
    },
    {
      "cell_type": "code",
      "metadata": {
        "id": "QydBZW55d69b"
      },
      "source": [
        "def get_boxes(data):\n",
        "    return [Box(line) for line in data.strip().split('\\n')]"
      ],
      "execution_count": 29,
      "outputs": []
    },
    {
      "cell_type": "code",
      "metadata": {
        "id": "43gtd85pd69b"
      },
      "source": [
        "boxes1 = get_boxes(test1)"
      ],
      "execution_count": 30,
      "outputs": []
    },
    {
      "cell_type": "code",
      "metadata": {
        "id": "VkfrB2NCd69c"
      },
      "source": [
        "def rent_col(l1, r1, l2, r2):\n",
        "    if (l1.xy[0] == r1.xy[0] or l1.xy[1] == r1.xy[1] or l2.xy[0] == r2.xy[0] or l2.xy[1] == r2.xy[1]):\n",
        "        # the line cannot have positive overlap\n",
        "        return False\n",
        "       \n",
        "     \n",
        "    # If one rectangle is on left side of other\n",
        "    if(l1.xy[0] >= r2.xy[0] or l2.xy[0] >= r1.xy[0]):\n",
        "        return False\n",
        " \n",
        "    # If one rectangle is above other\n",
        "    if(l1.xy[1] >= r2.xy[1] or l2.xy[1] >= r1.xy[1]):\n",
        "        return False\n",
        " \n",
        "    return True"
      ],
      "execution_count": 31,
      "outputs": []
    },
    {
      "cell_type": "code",
      "metadata": {
        "id": "fE3gIiOBd69c"
      },
      "source": [
        "def isCollide(boxes, I, J):\n",
        "    b1 = boxes[I]\n",
        "    b2 = boxes[J]\n",
        "    plc = [(0, 0), (0, 1), (1, 0), (1, 1)]\n",
        "    pos1 = b1.pos\n",
        "    pos2 = b2.pos\n",
        "    size1 = b1.size\n",
        "    size2 = b2.size\n",
        "    cols = []\n",
        "    for i, j in plc:\n",
        "        b1_off = b1.offsets[i]\n",
        "        b2_off = b2.offsets[j]\n",
        "        l1 = Pos(*(pos1 - b1_off))\n",
        "        l2 = Pos(*(pos2 - b2_off))\n",
        "        r1 = Pos(*(l1 + size1))\n",
        "        r2 = Pos(*(l2 + size2))\n",
        "#         print(l1, r1, l2, r2)\n",
        "        if rent_col(\n",
        "            l1, r1, l2, r2\n",
        "        ):\n",
        "            cols.append((i, j))\n",
        "    return cols"
      ],
      "execution_count": 32,
      "outputs": []
    },
    {
      "cell_type": "code",
      "metadata": {
        "id": "X5fNYDtmd69c"
      },
      "source": [
        "def make_cond(cond, I, J):\n",
        "    return lambda x: (cond[0] + x[I]) % 2 or (cond[1] + x[J]) % 2"
      ],
      "execution_count": 33,
      "outputs": []
    },
    {
      "cell_type": "code",
      "metadata": {
        "id": "L4G-lhg4d69c"
      },
      "source": [
        "def get_funcs(boxes):\n",
        "    funcs = []\n",
        "    n = len(boxes)\n",
        "    for i in range(n):\n",
        "        for j in range(i+1, n):\n",
        "            bad_poses = isCollide(boxes, i, j)\n",
        "            for pos in bad_poses:\n",
        "                funcs.append(make_cond(pos, i, j))\n",
        "    return funcs"
      ],
      "execution_count": 34,
      "outputs": []
    },
    {
      "cell_type": "code",
      "metadata": {
        "id": "NVN-gCndd69d"
      },
      "source": [
        "def find_optim(funcs, n):\n",
        "    for i in range(2 ** n):\n",
        "        places = [int(x) for x in bin(i)[2:].zfill(n)]\n",
        "        res = 1\n",
        "        for f in funcs:\n",
        "            res *= f(places)\n",
        "        if res == 1:\n",
        "            break\n",
        "    return res, places"
      ],
      "execution_count": 35,
      "outputs": []
    },
    {
      "cell_type": "code",
      "metadata": {
        "id": "cLpbuDjkd69d"
      },
      "source": [
        "def get_plotting_data(boxes, poses):\n",
        "    coord = []\n",
        "    sizes = []\n",
        "    labels = []\n",
        "    for i, box in enumerate(boxes):\n",
        "        coord.append(box.pos.xy)\n",
        "        sizes.append(box.size.xy)\n",
        "        label = box.pos - box.offsets[poses[i]]\n",
        "#         label[1] -= box.size.xy[1]\n",
        "        labels.append(label)\n",
        "    return coord, sizes, labels"
      ],
      "execution_count": 36,
      "outputs": []
    },
    {
      "cell_type": "code",
      "metadata": {
        "id": "yi8RMkz6d69d"
      },
      "source": [
        "def draw_labels(boxes):\n",
        "    n = len(boxes)\n",
        "    res, places = find_optim(get_funcs(boxes), n)\n",
        "    if res:\n",
        "        fig, ax = plt.subplots(dpi=100, figsize=(10, 10))\n",
        "        dots, sizes, labels = get_plotting_data(boxes, places)\n",
        "        for i in range(n):\n",
        "            ax.add_patch(Rectangle(labels[i], sizes[i][0], sizes[i][1],\n",
        "                     edgecolor = 'black',\n",
        "                     fill=False,\n",
        "                     lw=2))\n",
        "            ax.scatter(*dots[i], color = 'red', s=200)\n",
        "            ax.annotate(str(i), dots[i], xytext=(5, 6), textcoords='offset points')\n",
        "        plt.show()\n",
        "    else:\n",
        "        print(\"ERROR!!! There isn't optimal way to print labels\")"
      ],
      "execution_count": 37,
      "outputs": []
    },
    {
      "cell_type": "code",
      "metadata": {
        "colab": {
          "base_uri": "https://localhost:8080/"
        },
        "id": "l3f-It3qd69d",
        "outputId": "7d2b562b-f0e2-4ce3-9ddc-40724c4d9b42"
      },
      "source": [
        "draw_labels(boxes1)"
      ],
      "execution_count": 38,
      "outputs": [
        {
          "output_type": "stream",
          "text": [
            "ERROR!!! There isn't optimal way to print labels\n"
          ],
          "name": "stdout"
        }
      ]
    },
    {
      "cell_type": "code",
      "metadata": {
        "id": "WgbtnXoHd69e"
      },
      "source": [
        "with open('vis_hw/bin1.txt') as f:\n",
        "    boxes1 = get_boxes(f.read())"
      ],
      "execution_count": 39,
      "outputs": []
    },
    {
      "cell_type": "code",
      "metadata": {
        "id": "SvYN6HaWd69f"
      },
      "source": [
        "with open('vis_hw/bin2.txt') as f:\n",
        "    boxes2 = get_boxes(f.read())"
      ],
      "execution_count": 40,
      "outputs": []
    },
    {
      "cell_type": "code",
      "metadata": {
        "id": "90WhzfV2d69f"
      },
      "source": [
        "with open('vis_hw/bin3.txt') as f:\n",
        "    boxes3 = get_boxes(f.read())"
      ],
      "execution_count": 41,
      "outputs": []
    },
    {
      "cell_type": "code",
      "metadata": {
        "id": "dmTqQ8n4d69f"
      },
      "source": [
        "with open('vis_hw/bin4.txt') as f:\n",
        "    boxes4 = get_boxes(f.read())"
      ],
      "execution_count": 42,
      "outputs": []
    },
    {
      "cell_type": "code",
      "metadata": {
        "id": "IVfvD4IYd69f"
      },
      "source": [
        "%%time\n",
        "draw_labels(boxes1)"
      ],
      "execution_count": null,
      "outputs": []
    },
    {
      "cell_type": "code",
      "metadata": {
        "id": "6oZS6YDJd69f"
      },
      "source": [
        "%%time\n",
        "draw_labels(boxes2)"
      ],
      "execution_count": null,
      "outputs": []
    },
    {
      "cell_type": "code",
      "metadata": {
        "id": "MKuyeDQ2d69g"
      },
      "source": [
        "%%time\n",
        "draw_labels(boxes3)"
      ],
      "execution_count": null,
      "outputs": []
    },
    {
      "cell_type": "code",
      "metadata": {
        "id": "J8qxeNUld69g"
      },
      "source": [
        "%%time\n",
        "draw_labels(boxes4)"
      ],
      "execution_count": null,
      "outputs": []
    },
    {
      "cell_type": "code",
      "metadata": {
        "id": "0TGyTPeMd69g"
      },
      "source": [
        ""
      ],
      "execution_count": null,
      "outputs": []
    }
  ]
}